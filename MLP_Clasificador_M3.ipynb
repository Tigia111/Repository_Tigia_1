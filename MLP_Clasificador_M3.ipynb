{
  "nbformat": 4,
  "nbformat_minor": 0,
  "metadata": {
    "colab": {
      "provenance": []
    },
    "kernelspec": {
      "name": "python3",
      "display_name": "Python 3"
    }
  },
  "cells": [
    {
      "cell_type": "markdown",
      "metadata": {
        "id": "A8Rc1iIGlBXK"
      },
      "source": [
        "# Ejemplo de Clasificador basado en una Red Completamente Conectada.\n",
        "Este es un ejemplo de clasificador basado en una Red Completamente Conectada (MLP) con objetivo pronósticar si la suma de dos enteros es múltiplo de 3 (etiqueta 0) o no (etiqueta 1)."
      ]
    },
    {
      "cell_type": "markdown",
      "metadata": {
        "id": "YCkpuVJoLdxR"
      },
      "source": [
        "## Importar librerías"
      ]
    },
    {
      "cell_type": "code",
      "metadata": {
        "id": "dpBMcQxaHKUF"
      },
      "source": [
        "# seed the pseudorandom number generator\n",
        "from random import seed\n",
        "import random\n",
        "from random import randint"
      ],
      "execution_count": 1,
      "outputs": []
    },
    {
      "cell_type": "code",
      "metadata": {
        "id": "KEUzc8d0Jqs-"
      },
      "source": [
        "import numpy as np\n",
        "import pandas as pd"
      ],
      "execution_count": 2,
      "outputs": []
    },
    {
      "cell_type": "code",
      "metadata": {
        "id": "g4ad7UB9iXeR"
      },
      "source": [
        "import matplotlib.pyplot as plt"
      ],
      "execution_count": 3,
      "outputs": []
    },
    {
      "cell_type": "code",
      "metadata": {
        "id": "6k3Fue2Mk3EI"
      },
      "source": [
        "import scipy.stats\n",
        "from pylab import *"
      ],
      "execution_count": 4,
      "outputs": []
    },
    {
      "cell_type": "code",
      "metadata": {
        "id": "zjr4bgyVRoRE"
      },
      "source": [
        "import tensorflow as tf\n",
        "from tensorflow.keras.layers import Dense, Dropout\n",
        "from tensorflow.keras import Sequential\n",
        "from tensorflow import keras\n",
        "\n",
        "from keras.models import Sequential  # Model type to be used"
      ],
      "execution_count": 5,
      "outputs": []
    },
    {
      "cell_type": "code",
      "metadata": {
        "id": "TgEjIeujpDSl"
      },
      "source": [
        "from sklearn.metrics import mean_squared_error"
      ],
      "execution_count": 6,
      "outputs": []
    },
    {
      "cell_type": "markdown",
      "metadata": {
        "id": "SvFwqnphLlO_"
      },
      "source": [
        "## Fijar semilla del generador de números aleatorios"
      ]
    },
    {
      "cell_type": "code",
      "metadata": {
        "id": "UlyAtC9RLsSS"
      },
      "source": [
        "seed(1234)"
      ],
      "execution_count": 7,
      "outputs": []
    },
    {
      "cell_type": "markdown",
      "metadata": {
        "id": "BFLRtTn1Lu-L"
      },
      "source": [
        "## Generados dos listas de números aleatorios y sumarlos"
      ]
    },
    {
      "cell_type": "code",
      "metadata": {
        "id": "uHhL72HunfWA"
      },
      "source": [
        "list_lenght=1000"
      ],
      "execution_count": 8,
      "outputs": []
    },
    {
      "cell_type": "code",
      "metadata": {
        "id": "lhkHcJzuHh3Y",
        "colab": {
          "base_uri": "https://localhost:8080/"
        },
        "outputId": "b67b2aac-0813-431b-f815-c37d3e11d9ec"
      },
      "source": [
        "randomList1 = []\n",
        "# Set a length of the list to 10\n",
        "for i in range(0, list_lenght):\n",
        "    # any random numbers from 0 to 10\n",
        "    randomList1.append(randint(0, 10))\n",
        "\n",
        "print(\"Primera lista\", randomList1)"
      ],
      "execution_count": 9,
      "outputs": [
        {
          "output_type": "stream",
          "name": "stdout",
          "text": [
            "Primera lista [3, 6, 5, 4, 8, 9, 1, 7, 9, 6, 8, 0, 5, 0, 9, 6, 2, 0, 5, 2, 6, 3, 7, 0, 9, 0, 3, 2, 3, 1, 3, 1, 3, 7, 1, 7, 4, 0, 5, 1, 5, 9, 9, 4, 0, 9, 8, 8, 6, 8, 6, 3, 1, 2, 5, 2, 5, 6, 7, 4, 3, 5, 6, 4, 6, 2, 4, 2, 7, 9, 7, 7, 2, 9, 7, 4, 9, 0, 9, 2, 9, 1, 2, 9, 1, 5, 7, 4, 7, 7, 1, 4, 0, 5, 4, 9, 2, 9, 1, 3, 5, 9, 3, 0, 4, 4, 0, 6, 8, 4, 8, 1, 8, 9, 8, 2, 0, 2, 2, 3, 2, 9, 7, 4, 8, 1, 9, 2, 7, 4, 3, 2, 5, 5, 1, 0, 8, 4, 0, 0, 1, 0, 3, 9, 1, 9, 3, 7, 9, 3, 4, 4, 1, 1, 6, 2, 9, 8, 7, 8, 0, 8, 7, 9, 5, 6, 3, 9, 4, 7, 7, 1, 7, 2, 5, 2, 7, 2, 6, 8, 6, 1, 9, 3, 3, 4, 9, 7, 2, 8, 1, 9, 4, 3, 1, 0, 7, 8, 0, 9, 3, 9, 3, 9, 0, 5, 9, 2, 3, 1, 7, 1, 4, 7, 3, 8, 4, 5, 3, 8, 8, 8, 1, 3, 6, 8, 9, 1, 5, 8, 4, 1, 1, 1, 2, 3, 4, 2, 1, 9, 4, 0, 0, 2, 1, 2, 5, 9, 8, 8, 7, 5, 7, 0, 0, 6, 6, 1, 9, 4, 6, 7, 2, 0, 7, 0, 2, 8, 4, 8, 3, 2, 4, 7, 7, 0, 1, 1, 0, 0, 0, 1, 1, 9, 4, 9, 9, 5, 2, 4, 1, 0, 3, 5, 2, 3, 3, 5, 4, 5, 4, 0, 5, 6, 7, 3, 1, 5, 4, 5, 9, 1, 7, 6, 3, 3, 0, 0, 2, 3, 1, 6, 1, 3, 5, 6, 9, 2, 6, 6, 9, 7, 8, 9, 1, 3, 6, 6, 2, 2, 4, 9, 3, 8, 7, 5, 1, 3, 1, 3, 0, 2, 0, 3, 5, 2, 6, 6, 6, 4, 1, 0, 7, 4, 1, 8, 5, 9, 6, 2, 8, 7, 9, 7, 7, 3, 6, 5, 6, 8, 6, 5, 9, 1, 9, 2, 1, 9, 1, 5, 0, 2, 3, 8, 8, 1, 3, 7, 3, 5, 1, 5, 6, 9, 5, 0, 1, 3, 5, 8, 9, 9, 7, 8, 8, 9, 4, 4, 1, 5, 4, 6, 8, 7, 9, 4, 1, 7, 7, 0, 4, 6, 1, 9, 1, 1, 9, 0, 8, 1, 3, 7, 2, 8, 3, 2, 2, 3, 4, 1, 6, 3, 5, 2, 4, 2, 1, 3, 9, 7, 9, 7, 2, 5, 7, 5, 8, 5, 0, 4, 0, 9, 3, 1, 0, 0, 6, 4, 3, 4, 1, 8, 6, 8, 7, 1, 5, 7, 9, 1, 5, 6, 5, 1, 6, 0, 9, 2, 2, 1, 4, 9, 9, 6, 6, 2, 4, 1, 5, 5, 5, 5, 8, 6, 7, 2, 3, 9, 7, 2, 1, 1, 9, 6, 5, 9, 2, 1, 3, 8, 3, 8, 7, 3, 8, 0, 5, 0, 9, 9, 7, 4, 5, 6, 3, 8, 1, 7, 4, 1, 9, 2, 4, 3, 3, 9, 4, 2, 6, 0, 5, 4, 6, 6, 6, 3, 8, 8, 8, 5, 7, 9, 9, 0, 7, 8, 4, 6, 5, 7, 5, 9, 2, 6, 3, 0, 8, 1, 6, 0, 3, 7, 5, 0, 8, 9, 8, 5, 1, 9, 4, 6, 2, 6, 3, 3, 7, 3, 2, 8, 5, 2, 4, 8, 0, 5, 2, 3, 7, 2, 6, 1, 2, 4, 7, 2, 3, 5, 8, 4, 3, 5, 8, 0, 5, 3, 5, 3, 5, 6, 1, 1, 3, 1, 7, 3, 4, 1, 7, 0, 9, 8, 5, 9, 3, 8, 2, 3, 0, 9, 0, 4, 3, 4, 5, 0, 2, 7, 2, 8, 5, 3, 5, 0, 5, 9, 0, 6, 7, 2, 6, 6, 2, 2, 0, 1, 1, 3, 8, 3, 3, 2, 5, 9, 5, 4, 6, 9, 5, 9, 2, 5, 5, 6, 5, 7, 3, 0, 2, 3, 1, 9, 9, 8, 8, 0, 8, 6, 6, 1, 4, 3, 5, 5, 4, 9, 3, 8, 2, 3, 0, 6, 2, 8, 3, 3, 8, 2, 6, 2, 0, 3, 0, 3, 9, 0, 4, 2, 7, 1, 2, 2, 2, 1, 5, 9, 5, 3, 7, 1, 0, 1, 1, 8, 3, 5, 4, 4, 2, 4, 5, 6, 4, 2, 6, 1, 7, 6, 2, 3, 9, 4, 1, 4, 1, 0, 7, 3, 4, 5, 0, 8, 2, 2, 5, 4, 9, 5, 3, 3, 4, 6, 8, 4, 2, 2, 0, 6, 2, 8, 9, 2, 4, 3, 4, 4, 0, 8, 3, 4, 2, 9, 2, 8, 4, 0, 0, 6, 6, 7, 6, 7, 9, 3, 9, 7, 8, 2, 9, 1, 0, 6, 3, 8, 4, 9, 9, 6, 7, 9, 2, 3, 6, 4, 5, 8, 5, 9, 9, 7, 1, 0, 6, 3, 3, 4, 1, 8, 2, 8, 0, 3, 9, 0, 6, 6, 7, 7, 9, 2, 2, 1, 0, 9, 5, 0, 9, 7, 5, 3, 8, 2, 6, 4, 5, 6, 1, 9, 6, 3, 7, 0, 4, 9, 4, 4, 5, 1, 0, 9, 7, 0, 5, 3, 8, 9, 1, 7, 0, 9, 6, 8, 2, 1, 7, 5, 4, 0, 1, 1, 7, 8, 2, 7, 6, 9, 9, 2, 1, 1, 8, 9, 0, 7, 2, 4, 2, 9, 8, 1, 0, 1, 4, 4, 9, 9, 0, 1, 9, 9, 3, 1, 7, 2, 8, 4, 7, 4, 3, 2, 8, 4, 7, 7, 0, 1, 4, 6, 5, 5, 0, 5, 2, 0, 8, 3, 5, 7, 8, 4, 7, 6, 7, 7, 2, 7, 6, 0, 2, 6]\n"
          ]
        }
      ]
    },
    {
      "cell_type": "code",
      "metadata": {
        "id": "aV7FhT58I0in",
        "colab": {
          "base_uri": "https://localhost:8080/"
        },
        "outputId": "ac35838f-d7e6-4026-e764-61bf66c38d5d"
      },
      "source": [
        "randomList2 = []\n",
        "# Set a length of the list to 10\n",
        "for i in range(0, list_lenght):\n",
        "    # any random numbers from 0 to 10\n",
        "    randomList2.append(randint(0, 10))\n",
        "\n",
        "print(\"Printing list of 10 random numbers\")\n",
        "print(\"Segunda lista\",randomList2)"
      ],
      "execution_count": 10,
      "outputs": [
        {
          "output_type": "stream",
          "name": "stdout",
          "text": [
            "Printing list of 10 random numbers\n",
            "Segunda lista [5, 7, 0, 2, 3, 4, 8, 4, 3, 1, 8, 9, 1, 7, 2, 8, 5, 9, 3, 0, 0, 2, 3, 1, 6, 8, 7, 0, 1, 9, 7, 0, 1, 4, 8, 1, 9, 0, 2, 6, 2, 5, 6, 3, 5, 0, 0, 2, 1, 1, 1, 3, 8, 2, 2, 5, 4, 9, 4, 1, 3, 8, 4, 4, 0, 4, 5, 6, 9, 4, 5, 6, 6, 6, 7, 1, 1, 0, 5, 9, 2, 1, 3, 1, 5, 0, 3, 2, 0, 5, 4, 8, 3, 0, 7, 9, 6, 3, 4, 3, 7, 0, 9, 7, 3, 7, 6, 0, 4, 4, 3, 2, 7, 0, 0, 0, 4, 2, 3, 7, 9, 6, 9, 1, 3, 2, 6, 2, 1, 6, 7, 0, 3, 3, 6, 8, 0, 8, 9, 2, 9, 7, 6, 5, 8, 2, 6, 0, 6, 9, 5, 4, 0, 1, 8, 8, 6, 9, 5, 5, 1, 8, 5, 9, 4, 8, 4, 4, 7, 1, 9, 0, 1, 6, 8, 3, 1, 3, 6, 3, 5, 0, 3, 5, 1, 3, 8, 0, 7, 3, 3, 2, 4, 8, 8, 0, 7, 8, 0, 8, 6, 4, 2, 3, 0, 3, 1, 1, 6, 7, 8, 4, 9, 0, 4, 0, 9, 9, 8, 7, 1, 9, 6, 7, 7, 5, 7, 8, 1, 1, 9, 3, 9, 3, 3, 5, 8, 7, 3, 9, 0, 3, 9, 7, 0, 1, 3, 8, 0, 3, 5, 7, 1, 4, 5, 0, 1, 7, 9, 7, 3, 3, 9, 1, 7, 1, 5, 6, 8, 4, 9, 2, 0, 6, 1, 7, 0, 5, 4, 7, 7, 4, 8, 0, 7, 7, 6, 2, 2, 3, 2, 3, 5, 7, 2, 3, 7, 5, 7, 8, 9, 9, 7, 4, 9, 7, 8, 0, 2, 1, 7, 6, 5, 1, 8, 8, 1, 8, 6, 3, 5, 6, 0, 1, 2, 6, 5, 5, 5, 6, 0, 0, 6, 2, 0, 5, 2, 3, 7, 6, 6, 3, 3, 4, 4, 0, 7, 3, 3, 4, 6, 1, 9, 4, 6, 8, 7, 9, 3, 0, 4, 0, 9, 8, 8, 4, 8, 6, 9, 5, 1, 6, 2, 9, 5, 5, 9, 8, 2, 4, 2, 3, 1, 5, 1, 7, 5, 4, 7, 6, 7, 6, 5, 8, 3, 3, 8, 0, 8, 1, 0, 8, 6, 9, 6, 1, 9, 5, 3, 8, 6, 0, 4, 1, 8, 9, 9, 3, 0, 5, 7, 4, 5, 3, 6, 0, 2, 0, 4, 1, 3, 0, 7, 4, 0, 8, 8, 3, 6, 0, 1, 7, 5, 3, 5, 1, 3, 5, 7, 4, 9, 6, 6, 2, 1, 5, 2, 4, 3, 3, 7, 3, 1, 4, 4, 5, 9, 7, 9, 2, 2, 7, 9, 5, 0, 2, 7, 8, 8, 5, 4, 8, 1, 4, 5, 9, 9, 9, 4, 7, 4, 9, 3, 9, 4, 1, 7, 6, 4, 5, 9, 1, 9, 6, 4, 6, 0, 9, 1, 3, 7, 7, 9, 4, 3, 8, 8, 8, 9, 5, 5, 3, 7, 6, 5, 1, 0, 9, 4, 3, 9, 3, 3, 4, 0, 6, 8, 2, 0, 7, 6, 8, 7, 4, 1, 2, 7, 0, 2, 7, 7, 3, 8, 0, 6, 2, 5, 1, 9, 1, 9, 8, 2, 7, 2, 0, 4, 8, 2, 2, 3, 3, 4, 8, 1, 3, 3, 6, 9, 8, 8, 7, 0, 1, 3, 3, 7, 1, 6, 7, 2, 4, 6, 6, 5, 9, 4, 5, 3, 5, 4, 6, 7, 4, 6, 8, 0, 1, 1, 1, 2, 4, 4, 0, 7, 3, 1, 4, 0, 3, 4, 2, 3, 5, 0, 1, 6, 0, 5, 7, 0, 1, 1, 4, 1, 6, 7, 2, 4, 8, 4, 8, 7, 1, 6, 9, 3, 5, 7, 0, 0, 2, 8, 1, 3, 6, 9, 9, 0, 5, 4, 3, 3, 0, 4, 1, 0, 3, 1, 8, 5, 9, 9, 2, 6, 2, 1, 0, 3, 6, 4, 4, 5, 6, 3, 2, 0, 6, 0, 7, 3, 1, 8, 5, 6, 1, 2, 4, 1, 0, 5, 4, 0, 9, 5, 3, 5, 1, 6, 3, 8, 1, 0, 3, 7, 6, 5, 6, 2, 4, 5, 5, 3, 8, 1, 7, 4, 9, 8, 4, 9, 7, 0, 2, 5, 9, 5, 6, 4, 7, 0, 8, 7, 4, 2, 8, 3, 2, 5, 1, 9, 6, 5, 4, 7, 4, 3, 4, 5, 6, 5, 6, 9, 3, 5, 4, 6, 6, 5, 3, 2, 0, 5, 7, 4, 7, 8, 7, 8, 9, 9, 9, 2, 3, 1, 8, 5, 3, 4, 4, 0, 8, 4, 7, 8, 8, 0, 3, 7, 3, 3, 5, 8, 0, 9, 9, 6, 2, 5, 0, 8, 8, 5, 7, 6, 1, 4, 1, 4, 4, 9, 6, 5, 1, 3, 0, 1, 1, 8, 5, 6, 6, 1, 9, 3, 0, 6, 4, 1, 4, 5, 4, 7, 8, 3, 6, 8, 4, 8, 9, 3, 7, 8, 9, 7, 9, 1, 5, 1, 6, 6, 3, 7, 6, 9, 5, 1, 4, 5, 8, 5, 4, 4, 7, 3, 8, 4, 7, 5, 1, 5, 6, 0, 9, 2, 9, 9, 5, 4, 1, 1, 4, 7, 8, 4, 2, 8, 8, 1, 4, 0, 4, 5, 3, 2, 9, 5, 0, 4, 6, 9, 6, 9, 0, 2, 0, 0, 3, 1, 1, 4, 5, 9, 2, 1, 4, 4, 7, 2, 7, 1, 5, 6, 3, 3, 3, 4, 6, 6, 1, 9, 8, 4, 1, 7, 9, 2, 1, 8, 9, 7, 7, 4, 5, 0, 3, 2, 5, 4, 9, 0, 9, 2, 6, 0, 4, 8, 1, 9, 0, 6, 1, 8, 7, 3, 4, 2, 5, 8, 9, 0, 0, 6, 1, 6, 3, 4, 4, 7, 1, 2, 1, 1, 8, 0, 1, 3, 7, 4, 7]\n"
          ]
        }
      ]
    },
    {
      "cell_type": "code",
      "metadata": {
        "id": "50312RYeJDRm",
        "colab": {
          "base_uri": "https://localhost:8080/"
        },
        "outputId": "45bbb0bd-cbea-48e6-927e-53f905816002"
      },
      "source": [
        "randomSum=np.add(randomList1,randomList2)\n",
        "print(randomSum)"
      ],
      "execution_count": 11,
      "outputs": [
        {
          "output_type": "stream",
          "name": "stdout",
          "text": [
            "[ 8 13  5  6 11 13  9 11 12  7 16  9  6  7 11 14  7  9  8  2  6  5 10  1\n",
            " 15  8 10  2  4 10 10  1  4 11  9  8 13  0  7  7  7 14 15  7  5  9  8 10\n",
            "  7  9  7  6  9  4  7  7  9 15 11  5  6 13 10  8  6  6  9  8 16 13 12 13\n",
            "  8 15 14  5 10  0 14 11 11  2  5 10  6  5 10  6  7 12  5 12  3  5 11 18\n",
            "  8 12  5  6 12  9 12  7  7 11  6  6 12  8 11  3 15  9  8  2  4  4  5 10\n",
            " 11 15 16  5 11  3 15  4  8 10 10  2  8  8  7  8  8 12  9  2 10  7  9 14\n",
            "  9 11  9  7 15 12  9  8  1  2 14 10 15 17 12 13  1 16 12 18  9 14  7 13\n",
            " 11  8 16  1  8  8 13  5  8  5 12 11 11  1 12  8  4  7 17  7  9 11  4 11\n",
            "  8 11  9  0 14 16  0 17  9 13  5 12  0  8 10  3  9  8 15  5 13  7  7  8\n",
            " 13 14 11 15  9 17  7 10 13 13 16  9  6  9 13  4 10  4  5  8 12  9  4 18\n",
            "  4  3  9  9  1  3  8 17  8 11 12 12  8  4  5  6  7  8 18 11  9 10 11  1\n",
            " 14  1  7 14 12 12 12  4  4 13  8  7  1  6  4  7  7  5  9  9 11 16 15  7\n",
            "  4  7  3  3  8 12  4  6 10 10 11 13 13  9 12 10 16 10  9  5  6  6 16  7\n",
            " 12  7 11 11  1  8  8  6  6 12  1  4  7 12 14  7 11 12  9  7 14 11  1  8\n",
            "  8  9  9  8 10 12  6 12 11  5  8  6  4  7  6  3  9  7 11 10 13 15  9  4\n",
            "  5  0 16 12  9 12 13 15 15  7  9 13 11 16 12  8 15 13  8 12  8  8 10  6\n",
            " 10  9  6 13  8 11  7  8  8 16 11  4 11  7 11  6  1 13 12 18 11  1 10  8\n",
            "  8 16 15  9 11  9 16 18 13  7  1 10 11 10 13 10 15  4  3  7 11  1  7  6\n",
            "  8 13  1  9 17  3 14  1  4 14  7 11  8  3  5  8 11  5 15  9 11  4  5  7\n",
            "  3  7 12 10 16 10  3  9 11 10 17 12  9  6  2 16 12  6  0  2 13 12 11  9\n",
            "  5 16  7 12 12 10 14 16 13  8  9 15  8 10 10  1 16  8  6  6 13 10 18 12\n",
            " 10  8  4 10  6  8 12 12 17 10 10 10 11 17 16  7  6  4 16 12 10 10  2 10\n",
            "  7 11 12 11 10  7  8  6 13  2  9 16 13 12 12 10  4 10  8  7  6  8 16  5\n",
            " 12  3  9 11  9  3 15  1 14 12  8 13  8  3 12 16 10  7 10 12 13  8  8 11\n",
            "  7 12 14 15 13 16  2  7  6  3 15  2 12  7  5 11 11  6 13 18 12 10  4 14\n",
            "  8 12  9 10  9 11  7  4  3  9  7  6  8  8  7  8  3  7  7  5 10  3  5  9\n",
            "  7  3  9  5 13 11  3  6  9  4  6  9 12  5  9 14  5  9 10  2 13 12  7  6\n",
            " 14  0  9 10 13 10  6 14 11 12  0 14  4  7  6  4  9  1  2 10  3 16 10 12\n",
            " 14  2 11 11  1  6 10  8 10 10  7  8  3  3  1  9  8 10  6  3 13 14 11  5\n",
            "  8 13  6  9  7  9  5 15 10 10  8  1  8  6  9 10  9 11 15  6 13 12  8  5\n",
            "  9  8  8 13  5 16  7 17 10  7  9 13  2 10  8 12 13  8 10  9  0 11  7  7\n",
            " 11  8  7  4 12  2 11  8  7  5 12 13  8  7 12  7  5  7 10 11  8  9 10 10\n",
            "  7  7  7  6  9  9 10  8 15 13 10 12 18 13  3  7  2  8 12  6  8  9  0 16\n",
            "  6  9 13 12  9  8 10  6  7 11 16  4 11 11  6  8  7  8 17 10  9 10 10  5\n",
            "  4  9  7  8 11 15  7  9  7  0  1  7 14 12 12 13 10 12 12  7 14  6 10  5\n",
            "  5 10 10 16  7 15 17 10 15 18  5 10 14 13 12 17  6 14 10 13  7  3 13  9\n",
            " 12  9  2 12  7 16  5  7 13  7  9 14 11 14 14  3  7  7  0 18  7  9 18 12\n",
            "  9  4  9  6 13 12  9  8  9 17  7  7  7  4  9 12  6 13 10  1  4 15 16  6\n",
            " 14  3 10  9  1 10  1 10 10 13 11  3  8  9  8  7  3  8  8 13  8 10  9 12\n",
            " 13  8  7  2 17 17  4  8  9 13  4 10 16 10  7  8  8  9  9 12  2  6 13 18\n",
            "  3 10  9  8  8  8 15  5 12  2 14  5 15 14  3  5  6 11 13 14  0  5  8  1\n",
            " 14  6  9 11 15  5  9  7  8 15  2  8  9  7  6 13]\n"
          ]
        }
      ]
    },
    {
      "cell_type": "code",
      "metadata": {
        "id": "lxj5T5Hp859s",
        "colab": {
          "base_uri": "https://localhost:8080/"
        },
        "outputId": "00540922-1837-43e1-cc3e-945d9e19ed4e"
      },
      "source": [
        "Y_label=mod(randomSum,3)\n",
        "print(Y_label)"
      ],
      "execution_count": 12,
      "outputs": [
        {
          "output_type": "stream",
          "name": "stdout",
          "text": [
            "[2 1 2 0 2 1 0 2 0 1 1 0 0 1 2 2 1 0 2 2 0 2 1 1 0 2 1 2 1 1 1 1 1 2 0 2 1\n",
            " 0 1 1 1 2 0 1 2 0 2 1 1 0 1 0 0 1 1 1 0 0 2 2 0 1 1 2 0 0 0 2 1 1 0 1 2 0\n",
            " 2 2 1 0 2 2 2 2 2 1 0 2 1 0 1 0 2 0 0 2 2 0 2 0 2 0 0 0 0 1 1 2 0 0 0 2 2\n",
            " 0 0 0 2 2 1 1 2 1 2 0 1 2 2 0 0 1 2 1 1 2 2 2 1 2 2 0 0 2 1 1 0 2 0 2 0 1\n",
            " 0 0 0 2 1 2 2 1 0 2 0 1 1 1 0 0 0 2 1 1 2 2 1 1 2 2 1 2 2 2 0 2 2 1 0 2 1\n",
            " 1 2 1 0 2 1 2 2 2 0 0 2 1 0 2 0 1 2 0 0 2 1 0 0 2 0 2 1 1 1 2 1 2 2 0 0 2\n",
            " 1 1 1 1 1 0 0 0 1 1 1 1 2 2 0 0 1 0 1 0 0 0 1 0 2 2 2 2 0 0 2 1 2 0 1 2 0\n",
            " 2 0 1 2 1 2 1 1 2 0 0 0 1 1 1 2 1 1 0 1 1 1 2 0 0 2 1 0 1 1 1 0 0 2 0 1 0\n",
            " 1 1 2 1 1 0 0 1 1 1 0 2 0 0 1 1 0 1 2 2 1 2 2 0 0 0 1 1 1 0 2 1 2 0 0 1 2\n",
            " 2 1 2 2 0 0 2 1 0 0 0 2 2 2 0 1 1 0 0 0 1 2 1 1 0 0 1 2 0 1 0 0 0 1 0 0 1\n",
            " 0 1 2 1 0 2 0 1 2 0 2 2 1 0 1 0 0 1 2 2 1 2 2 1 2 1 2 1 2 0 1 1 0 0 2 1 1\n",
            " 2 2 1 0 0 2 0 1 0 1 1 1 1 2 1 1 1 0 1 0 1 2 1 1 0 2 1 1 0 2 0 2 1 1 2 1 2\n",
            " 2 0 2 2 2 2 0 0 2 1 2 1 0 1 0 1 1 1 0 0 2 1 2 0 0 0 2 1 0 0 0 2 1 0 2 0 2\n",
            " 1 1 0 0 1 2 1 1 2 0 0 2 1 1 1 1 2 0 0 1 1 0 0 1 2 1 1 0 2 0 0 2 1 1 1 2 2\n",
            " 1 1 0 1 1 0 1 1 2 1 1 2 0 2 1 1 2 0 1 2 0 1 1 0 0 1 1 1 2 1 0 2 1 2 0 0 0\n",
            " 2 0 0 0 1 2 0 2 1 2 0 0 1 1 1 1 0 1 2 2 2 1 0 2 0 1 1 2 1 0 0 0 2 0 1 2 2\n",
            " 2 0 1 0 0 1 1 2 2 0 0 1 0 2 1 1 0 0 1 0 2 2 1 2 0 1 1 2 1 0 2 0 1 0 0 2 1\n",
            " 2 0 0 0 1 0 0 0 2 0 2 2 0 1 2 1 0 1 0 2 0 0 1 1 1 0 2 2 0 0 2 1 1 0 1 0 1\n",
            " 2 1 0 1 1 0 2 2 2 2 1 0 1 2 1 1 1 2 0 0 1 0 2 1 0 0 1 2 2 2 2 1 0 0 1 0 2\n",
            " 0 1 1 2 1 2 0 0 1 0 2 0 0 1 0 2 2 0 2 2 1 2 1 1 2 1 1 0 1 2 1 2 0 1 2 1 0\n",
            " 0 2 1 1 2 2 1 1 0 2 2 2 1 2 0 1 2 1 0 1 2 1 1 2 2 0 1 1 1 1 1 0 0 0 1 2 0\n",
            " 1 1 0 0 1 0 1 2 2 0 0 2 0 0 1 0 0 1 0 0 2 1 0 1 2 1 1 2 2 0 2 1 2 2 1 0 1\n",
            " 1 2 1 0 1 2 2 0 1 0 1 0 1 1 2 0 0 1 1 0 0 1 2 0 1 2 2 1 1 1 1 0 2 1 0 0 2\n",
            " 1 2 1 0 2 0 2 1 1 1 0 1 0 0 0 2 0 1 1 2 1 1 1 0 2 2 2 2 0 1 1 0 0 1 0 0 0\n",
            " 0 1 0 0 1 0 0 2 0 2 1 1 1 1 0 0 0 1 1 1 1 0 1 0 2 0 1 0 1 1 1 1 1 1 2 0 2\n",
            " 0 2 1 0 2 2 1 2 1 0 0 1 2 1 2 2 2 1 2 0 1 1 1 1 1 1 2 2 0 0 0 2 0 1 0 0 1\n",
            " 0 2 2 2 0 2 0 2 2 2 0 2 0 2 0 2 1 2 0 2 2 1 2 0 0 2 0 2 0 1 2 0 2 2 0 1 0\n",
            " 1]\n"
          ]
        }
      ]
    },
    {
      "cell_type": "code",
      "metadata": {
        "id": "Hlg1D7jw85z_",
        "colab": {
          "base_uri": "https://localhost:8080/"
        },
        "outputId": "757284d2-4129-4eaa-8c90-b917df7a593e"
      },
      "source": [
        "Y_label[Y_label >1] = 1\n",
        "print(Y_label)"
      ],
      "execution_count": 13,
      "outputs": [
        {
          "output_type": "stream",
          "name": "stdout",
          "text": [
            "[1 1 1 0 1 1 0 1 0 1 1 0 0 1 1 1 1 0 1 1 0 1 1 1 0 1 1 1 1 1 1 1 1 1 0 1 1\n",
            " 0 1 1 1 1 0 1 1 0 1 1 1 0 1 0 0 1 1 1 0 0 1 1 0 1 1 1 0 0 0 1 1 1 0 1 1 0\n",
            " 1 1 1 0 1 1 1 1 1 1 0 1 1 0 1 0 1 0 0 1 1 0 1 0 1 0 0 0 0 1 1 1 0 0 0 1 1\n",
            " 0 0 0 1 1 1 1 1 1 1 0 1 1 1 0 0 1 1 1 1 1 1 1 1 1 1 0 0 1 1 1 0 1 0 1 0 1\n",
            " 0 0 0 1 1 1 1 1 0 1 0 1 1 1 0 0 0 1 1 1 1 1 1 1 1 1 1 1 1 1 0 1 1 1 0 1 1\n",
            " 1 1 1 0 1 1 1 1 1 0 0 1 1 0 1 0 1 1 0 0 1 1 0 0 1 0 1 1 1 1 1 1 1 1 0 0 1\n",
            " 1 1 1 1 1 0 0 0 1 1 1 1 1 1 0 0 1 0 1 0 0 0 1 0 1 1 1 1 0 0 1 1 1 0 1 1 0\n",
            " 1 0 1 1 1 1 1 1 1 0 0 0 1 1 1 1 1 1 0 1 1 1 1 0 0 1 1 0 1 1 1 0 0 1 0 1 0\n",
            " 1 1 1 1 1 0 0 1 1 1 0 1 0 0 1 1 0 1 1 1 1 1 1 0 0 0 1 1 1 0 1 1 1 0 0 1 1\n",
            " 1 1 1 1 0 0 1 1 0 0 0 1 1 1 0 1 1 0 0 0 1 1 1 1 0 0 1 1 0 1 0 0 0 1 0 0 1\n",
            " 0 1 1 1 0 1 0 1 1 0 1 1 1 0 1 0 0 1 1 1 1 1 1 1 1 1 1 1 1 0 1 1 0 0 1 1 1\n",
            " 1 1 1 0 0 1 0 1 0 1 1 1 1 1 1 1 1 0 1 0 1 1 1 1 0 1 1 1 0 1 0 1 1 1 1 1 1\n",
            " 1 0 1 1 1 1 0 0 1 1 1 1 0 1 0 1 1 1 0 0 1 1 1 0 0 0 1 1 0 0 0 1 1 0 1 0 1\n",
            " 1 1 0 0 1 1 1 1 1 0 0 1 1 1 1 1 1 0 0 1 1 0 0 1 1 1 1 0 1 0 0 1 1 1 1 1 1\n",
            " 1 1 0 1 1 0 1 1 1 1 1 1 0 1 1 1 1 0 1 1 0 1 1 0 0 1 1 1 1 1 0 1 1 1 0 0 0\n",
            " 1 0 0 0 1 1 0 1 1 1 0 0 1 1 1 1 0 1 1 1 1 1 0 1 0 1 1 1 1 0 0 0 1 0 1 1 1\n",
            " 1 0 1 0 0 1 1 1 1 0 0 1 0 1 1 1 0 0 1 0 1 1 1 1 0 1 1 1 1 0 1 0 1 0 0 1 1\n",
            " 1 0 0 0 1 0 0 0 1 0 1 1 0 1 1 1 0 1 0 1 0 0 1 1 1 0 1 1 0 0 1 1 1 0 1 0 1\n",
            " 1 1 0 1 1 0 1 1 1 1 1 0 1 1 1 1 1 1 0 0 1 0 1 1 0 0 1 1 1 1 1 1 0 0 1 0 1\n",
            " 0 1 1 1 1 1 0 0 1 0 1 0 0 1 0 1 1 0 1 1 1 1 1 1 1 1 1 0 1 1 1 1 0 1 1 1 0\n",
            " 0 1 1 1 1 1 1 1 0 1 1 1 1 1 0 1 1 1 0 1 1 1 1 1 1 0 1 1 1 1 1 0 0 0 1 1 0\n",
            " 1 1 0 0 1 0 1 1 1 0 0 1 0 0 1 0 0 1 0 0 1 1 0 1 1 1 1 1 1 0 1 1 1 1 1 0 1\n",
            " 1 1 1 0 1 1 1 0 1 0 1 0 1 1 1 0 0 1 1 0 0 1 1 0 1 1 1 1 1 1 1 0 1 1 0 0 1\n",
            " 1 1 1 0 1 0 1 1 1 1 0 1 0 0 0 1 0 1 1 1 1 1 1 0 1 1 1 1 0 1 1 0 0 1 0 0 0\n",
            " 0 1 0 0 1 0 0 1 0 1 1 1 1 1 0 0 0 1 1 1 1 0 1 0 1 0 1 0 1 1 1 1 1 1 1 0 1\n",
            " 0 1 1 0 1 1 1 1 1 0 0 1 1 1 1 1 1 1 1 0 1 1 1 1 1 1 1 1 0 0 0 1 0 1 0 0 1\n",
            " 0 1 1 1 0 1 0 1 1 1 0 1 0 1 0 1 1 1 0 1 1 1 1 0 0 1 0 1 0 1 1 0 1 1 0 1 0\n",
            " 1]\n"
          ]
        }
      ]
    },
    {
      "cell_type": "markdown",
      "metadata": {
        "id": "lz89pTNvl0le"
      },
      "source": [
        "Se construye un dataframe con las anteriores listas distribuidas en forma de columnas."
      ]
    },
    {
      "cell_type": "code",
      "metadata": {
        "id": "ZHEA5_YvJZIj",
        "colab": {
          "base_uri": "https://localhost:8080/"
        },
        "outputId": "e18ef656-168a-43ee-f2c3-b9ccb799e264"
      },
      "source": [
        "# Some arrangements for next plots\n",
        "df2=np.column_stack((randomList1, randomList2, randomSum,Y_label))\n",
        "print(df2.shape)\n",
        "dfnew=pd.DataFrame(data=df2)\n",
        "print(dfnew.shape)"
      ],
      "execution_count": 14,
      "outputs": [
        {
          "output_type": "stream",
          "name": "stdout",
          "text": [
            "(1000, 4)\n",
            "(1000, 4)\n"
          ]
        }
      ]
    },
    {
      "cell_type": "markdown",
      "metadata": {
        "id": "bNz3CIyuRzMO"
      },
      "source": [
        "Se pone nombre a las columnas."
      ]
    },
    {
      "cell_type": "code",
      "metadata": {
        "id": "Dq7S0KWRRzls",
        "colab": {
          "base_uri": "https://localhost:8080/"
        },
        "outputId": "ce1cf51c-e1a8-4b7f-8219-13f80140aa4d"
      },
      "source": [
        "print(dfnew.columns)\n",
        "dfnew.columns = [\"V1\",\"V2\",\"Suma\",\"Y_label\"]\n",
        "print(dfnew.columns)"
      ],
      "execution_count": 15,
      "outputs": [
        {
          "output_type": "stream",
          "name": "stdout",
          "text": [
            "RangeIndex(start=0, stop=4, step=1)\n",
            "Index(['V1', 'V2', 'Suma', 'Y_label'], dtype='object')\n"
          ]
        }
      ]
    },
    {
      "cell_type": "markdown",
      "metadata": {
        "id": "5NGidlW3Rnsl"
      },
      "source": [
        "Se borran estructuras de datos innecesarias."
      ]
    },
    {
      "cell_type": "code",
      "metadata": {
        "id": "ksxWmJD-RwKG"
      },
      "source": [
        "del(df2)"
      ],
      "execution_count": 16,
      "outputs": []
    },
    {
      "cell_type": "code",
      "metadata": {
        "id": "3J75JEXmKGry",
        "colab": {
          "base_uri": "https://localhost:8080/"
        },
        "outputId": "d3b90a94-7abe-44d0-fbb2-90936ee1fd0d"
      },
      "source": [
        "print(dfnew)"
      ],
      "execution_count": 17,
      "outputs": [
        {
          "output_type": "stream",
          "name": "stdout",
          "text": [
            "     V1  V2  Suma  Y_label\n",
            "0     3   5     8        1\n",
            "1     6   7    13        1\n",
            "2     5   0     5        1\n",
            "3     4   2     6        0\n",
            "4     8   3    11        1\n",
            "..   ..  ..   ...      ...\n",
            "995   7   1     8        1\n",
            "996   6   3     9        0\n",
            "997   0   7     7        1\n",
            "998   2   4     6        0\n",
            "999   6   7    13        1\n",
            "\n",
            "[1000 rows x 4 columns]\n"
          ]
        }
      ]
    },
    {
      "cell_type": "markdown",
      "metadata": {
        "id": "y3YFmUE4lvsH"
      },
      "source": [
        "Se eliminan las variables no necesarias."
      ]
    },
    {
      "cell_type": "code",
      "metadata": {
        "id": "YuLt5jPPmLcS"
      },
      "source": [
        "del(randomList1,randomList2,randomSum)"
      ],
      "execution_count": 18,
      "outputs": []
    },
    {
      "cell_type": "markdown",
      "metadata": {
        "id": "X5JDha7BmRD_"
      },
      "source": [
        "A partir del dataframe, se separan las variables independientes (X) y las dependientes (Y)."
      ]
    },
    {
      "cell_type": "code",
      "metadata": {
        "id": "HpxU3-4hKiN2",
        "colab": {
          "base_uri": "https://localhost:8080/"
        },
        "outputId": "8a325ab8-9408-442f-97b2-5b214121bc74"
      },
      "source": [
        "# Para las variables independientes se seleccionan las dos primeras columnas del dataframe dfnew.\n",
        "X = dfnew.iloc[:,0:2]\n",
        "print(X.shape)"
      ],
      "execution_count": 19,
      "outputs": [
        {
          "output_type": "stream",
          "name": "stdout",
          "text": [
            "(1000, 2)\n"
          ]
        }
      ]
    },
    {
      "cell_type": "code",
      "metadata": {
        "id": "0-jGhTMbKswW",
        "colab": {
          "base_uri": "https://localhost:8080/"
        },
        "outputId": "6e37151d-71f4-4e78-feeb-33cff7f796b1"
      },
      "source": [
        "# y para la variable dependiente se selecciona la cuarta columna (índice 3).\n",
        "Y = dfnew.iloc[:,3]\n",
        "print(Y.shape)"
      ],
      "execution_count": 20,
      "outputs": [
        {
          "output_type": "stream",
          "name": "stdout",
          "text": [
            "(1000,)\n"
          ]
        }
      ]
    },
    {
      "cell_type": "code",
      "metadata": {
        "id": "_6gM5MQLK68I"
      },
      "source": [
        "# Quality check\n",
        "assert X.shape[0] == Y.shape[0]"
      ],
      "execution_count": 21,
      "outputs": []
    },
    {
      "cell_type": "markdown",
      "metadata": {
        "id": "3QGkp0AMLOI_"
      },
      "source": [
        "## Separación de los conjuntos de entrenamiento y test.\n",
        "Se verifica la dimensionalidad."
      ]
    },
    {
      "cell_type": "code",
      "metadata": {
        "id": "-7z4Y6KaLFaI",
        "colab": {
          "base_uri": "https://localhost:8080/"
        },
        "outputId": "94436d6b-11a0-40bc-ea2d-244612101376"
      },
      "source": [
        "print(X.shape)\n",
        "test_size = int(np.floor(0.30*X.shape[0]) )\n",
        "print(test_size)"
      ],
      "execution_count": 22,
      "outputs": [
        {
          "output_type": "stream",
          "name": "stdout",
          "text": [
            "(1000, 2)\n",
            "300\n"
          ]
        }
      ]
    },
    {
      "cell_type": "code",
      "metadata": {
        "id": "DxwcduzFQjo1"
      },
      "source": [
        " X = np.asarray(X)# convertirnos los datos de DataFrame a Numpy Arrays\n",
        " Y = np.asarray(Y)# para que sean leidos por los modulos de Keras"
      ],
      "execution_count": 23,
      "outputs": []
    },
    {
      "cell_type": "code",
      "metadata": {
        "id": "8vxfjfFuLNDD",
        "colab": {
          "base_uri": "https://localhost:8080/"
        },
        "outputId": "1da0206f-927e-46ea-cc31-24f5dafd683f"
      },
      "source": [
        "trainX, testX = X[:-test_size], X[-test_size:]\n",
        "trainY, testY = Y[:-test_size], Y[-test_size:]\n",
        "print(trainX.shape,testX.shape)\n",
        "print(len(trainY),len(testY))"
      ],
      "execution_count": 24,
      "outputs": [
        {
          "output_type": "stream",
          "name": "stdout",
          "text": [
            "(700, 2) (300, 2)\n",
            "700 300\n"
          ]
        }
      ]
    },
    {
      "cell_type": "code",
      "metadata": {
        "id": "QlhPCrA4MBMu",
        "colab": {
          "base_uri": "https://localhost:8080/"
        },
        "outputId": "dcc44af3-14a4-40c7-eeb8-f5ad5dd699d4"
      },
      "source": [
        " trainX_num=trainX.shape[1]\n",
        " print(trainX_num)"
      ],
      "execution_count": 25,
      "outputs": [
        {
          "output_type": "stream",
          "name": "stdout",
          "text": [
            "2\n"
          ]
        }
      ]
    },
    {
      "cell_type": "markdown",
      "metadata": {
        "id": "MVEhMG8WpEA5"
      },
      "source": [
        "Definición de la Red Neuronal"
      ]
    },
    {
      "cell_type": "code",
      "metadata": {
        "id": "qhmjlgItQ66v",
        "colab": {
          "base_uri": "https://localhost:8080/"
        },
        "outputId": "b3640099-f346-43e0-cb6c-014889d3b3be"
      },
      "source": [
        "model = keras.Sequential() # creamos el modelo secuencial\n",
        "\n",
        "# Ponemos una primera capa oculta\n",
        "model.add(Dense(100, activation='relu', input_shape=(2,)))\n",
        "print(model.layers[-1].output_shape)\n",
        "# Segunda capa\n",
        "model.add(Dense(50, activation='relu'))\n",
        "print(model.layers[-1].output_shape)\n",
        "# Tercera capa\n",
        "model.add(Dense(50, activation='relu'))\n",
        "print(model.layers[-1].output_shape)\n",
        "# Incorporamos la capa de salida\n",
        "model.add(Dense( 1, activation='sigmoid'))"
      ],
      "execution_count": 26,
      "outputs": [
        {
          "output_type": "stream",
          "name": "stdout",
          "text": [
            "(None, 100)\n",
            "(None, 50)\n",
            "(None, 50)\n"
          ]
        }
      ]
    },
    {
      "cell_type": "markdown",
      "metadata": {
        "id": "KAJ76CKqpD7-"
      },
      "source": [
        "Se muestra un resumen de la red creada."
      ]
    },
    {
      "cell_type": "code",
      "metadata": {
        "id": "Ds2gz3S7dbuK",
        "colab": {
          "base_uri": "https://localhost:8080/"
        },
        "outputId": "1b0c482d-a06b-490e-a72b-38006bed8c47"
      },
      "source": [
        "model.summary()"
      ],
      "execution_count": 27,
      "outputs": [
        {
          "output_type": "stream",
          "name": "stdout",
          "text": [
            "Model: \"sequential\"\n",
            "_________________________________________________________________\n",
            " Layer (type)                Output Shape              Param #   \n",
            "=================================================================\n",
            " dense (Dense)               (None, 100)               300       \n",
            "                                                                 \n",
            " dense_1 (Dense)             (None, 50)                5050      \n",
            "                                                                 \n",
            " dense_2 (Dense)             (None, 50)                2550      \n",
            "                                                                 \n",
            " dense_3 (Dense)             (None, 1)                 51        \n",
            "                                                                 \n",
            "=================================================================\n",
            "Total params: 7951 (31.06 KB)\n",
            "Trainable params: 7951 (31.06 KB)\n",
            "Non-trainable params: 0 (0.00 Byte)\n",
            "_________________________________________________________________\n"
          ]
        }
      ]
    },
    {
      "cell_type": "markdown",
      "metadata": {
        "id": "6TCICToeo7mC"
      },
      "source": [
        "Se compila el modelo, incluyendo la elección del optimizador y del error que se minimizará durante el entrenamiento. A continuación se entrena el modelo, almacenando la información del error en la variable \"history\"."
      ]
    },
    {
      "cell_type": "code",
      "metadata": {
        "id": "g6_0STjWcGSA"
      },
      "source": [
        "model.compile(loss='binary_crossentropy',  optimizer='adam', metrics=['accuracy'])"
      ],
      "execution_count": 28,
      "outputs": []
    },
    {
      "cell_type": "code",
      "metadata": {
        "id": "h2_es52ISayE",
        "colab": {
          "base_uri": "https://localhost:8080/"
        },
        "outputId": "cdd1051d-4368-482d-b24a-ead3669812d1"
      },
      "source": [
        "history=model.fit(trainX, trainY, epochs=100, batch_size=16, validation_data=(testX, testY), verbose=2)"
      ],
      "execution_count": 29,
      "outputs": [
        {
          "output_type": "stream",
          "name": "stdout",
          "text": [
            "Epoch 1/100\n",
            "44/44 - 5s - loss: 0.6595 - accuracy: 0.6629 - val_loss: 0.6529 - val_accuracy: 0.6667 - 5s/epoch - 113ms/step\n",
            "Epoch 2/100\n",
            "44/44 - 1s - loss: 0.6481 - accuracy: 0.6629 - val_loss: 0.6478 - val_accuracy: 0.6667 - 602ms/epoch - 14ms/step\n",
            "Epoch 3/100\n",
            "44/44 - 1s - loss: 0.6505 - accuracy: 0.6643 - val_loss: 0.6428 - val_accuracy: 0.6667 - 572ms/epoch - 13ms/step\n",
            "Epoch 4/100\n",
            "44/44 - 0s - loss: 0.6479 - accuracy: 0.6700 - val_loss: 0.6493 - val_accuracy: 0.6833 - 405ms/epoch - 9ms/step\n",
            "Epoch 5/100\n",
            "44/44 - 0s - loss: 0.6456 - accuracy: 0.6757 - val_loss: 0.6391 - val_accuracy: 0.6833 - 400ms/epoch - 9ms/step\n",
            "Epoch 6/100\n",
            "44/44 - 0s - loss: 0.6408 - accuracy: 0.6757 - val_loss: 0.6344 - val_accuracy: 0.6833 - 334ms/epoch - 8ms/step\n",
            "Epoch 7/100\n",
            "44/44 - 0s - loss: 0.6406 - accuracy: 0.6757 - val_loss: 0.6329 - val_accuracy: 0.6833 - 271ms/epoch - 6ms/step\n",
            "Epoch 8/100\n",
            "44/44 - 0s - loss: 0.6361 - accuracy: 0.6757 - val_loss: 0.6306 - val_accuracy: 0.6833 - 293ms/epoch - 7ms/step\n",
            "Epoch 9/100\n",
            "44/44 - 0s - loss: 0.6339 - accuracy: 0.6757 - val_loss: 0.6307 - val_accuracy: 0.6833 - 264ms/epoch - 6ms/step\n",
            "Epoch 10/100\n",
            "44/44 - 0s - loss: 0.6332 - accuracy: 0.6757 - val_loss: 0.6239 - val_accuracy: 0.6833 - 217ms/epoch - 5ms/step\n",
            "Epoch 11/100\n",
            "44/44 - 0s - loss: 0.6289 - accuracy: 0.6757 - val_loss: 0.6253 - val_accuracy: 0.6833 - 411ms/epoch - 9ms/step\n",
            "Epoch 12/100\n",
            "44/44 - 0s - loss: 0.6314 - accuracy: 0.6757 - val_loss: 0.6221 - val_accuracy: 0.6833 - 409ms/epoch - 9ms/step\n",
            "Epoch 13/100\n",
            "44/44 - 0s - loss: 0.6274 - accuracy: 0.6757 - val_loss: 0.6218 - val_accuracy: 0.6833 - 336ms/epoch - 8ms/step\n",
            "Epoch 14/100\n",
            "44/44 - 0s - loss: 0.6234 - accuracy: 0.6757 - val_loss: 0.6195 - val_accuracy: 0.6833 - 367ms/epoch - 8ms/step\n",
            "Epoch 15/100\n",
            "44/44 - 0s - loss: 0.6237 - accuracy: 0.6757 - val_loss: 0.6182 - val_accuracy: 0.6833 - 310ms/epoch - 7ms/step\n",
            "Epoch 16/100\n",
            "44/44 - 0s - loss: 0.6201 - accuracy: 0.6757 - val_loss: 0.6253 - val_accuracy: 0.6833 - 396ms/epoch - 9ms/step\n",
            "Epoch 17/100\n",
            "44/44 - 0s - loss: 0.6203 - accuracy: 0.6757 - val_loss: 0.6154 - val_accuracy: 0.6833 - 326ms/epoch - 7ms/step\n",
            "Epoch 18/100\n",
            "44/44 - 0s - loss: 0.6130 - accuracy: 0.6757 - val_loss: 0.6130 - val_accuracy: 0.6833 - 342ms/epoch - 8ms/step\n",
            "Epoch 19/100\n",
            "44/44 - 0s - loss: 0.6132 - accuracy: 0.6757 - val_loss: 0.6130 - val_accuracy: 0.6833 - 311ms/epoch - 7ms/step\n",
            "Epoch 20/100\n",
            "44/44 - 0s - loss: 0.6097 - accuracy: 0.6757 - val_loss: 0.6106 - val_accuracy: 0.6833 - 358ms/epoch - 8ms/step\n",
            "Epoch 21/100\n",
            "44/44 - 0s - loss: 0.6084 - accuracy: 0.6757 - val_loss: 0.6142 - val_accuracy: 0.6833 - 328ms/epoch - 7ms/step\n",
            "Epoch 22/100\n",
            "44/44 - 0s - loss: 0.6072 - accuracy: 0.6757 - val_loss: 0.6107 - val_accuracy: 0.6833 - 272ms/epoch - 6ms/step\n",
            "Epoch 23/100\n",
            "44/44 - 0s - loss: 0.6050 - accuracy: 0.6757 - val_loss: 0.6086 - val_accuracy: 0.6833 - 308ms/epoch - 7ms/step\n",
            "Epoch 24/100\n",
            "44/44 - 0s - loss: 0.6053 - accuracy: 0.6757 - val_loss: 0.6062 - val_accuracy: 0.6833 - 320ms/epoch - 7ms/step\n",
            "Epoch 25/100\n",
            "44/44 - 0s - loss: 0.6001 - accuracy: 0.6757 - val_loss: 0.6025 - val_accuracy: 0.6833 - 256ms/epoch - 6ms/step\n",
            "Epoch 26/100\n",
            "44/44 - 0s - loss: 0.6003 - accuracy: 0.6757 - val_loss: 0.6048 - val_accuracy: 0.6833 - 250ms/epoch - 6ms/step\n",
            "Epoch 27/100\n",
            "44/44 - 1s - loss: 0.6005 - accuracy: 0.6757 - val_loss: 0.6028 - val_accuracy: 0.6833 - 537ms/epoch - 12ms/step\n",
            "Epoch 28/100\n",
            "44/44 - 0s - loss: 0.5991 - accuracy: 0.6757 - val_loss: 0.6042 - val_accuracy: 0.6833 - 355ms/epoch - 8ms/step\n",
            "Epoch 29/100\n",
            "44/44 - 0s - loss: 0.6004 - accuracy: 0.6757 - val_loss: 0.6070 - val_accuracy: 0.6833 - 349ms/epoch - 8ms/step\n",
            "Epoch 30/100\n",
            "44/44 - 0s - loss: 0.5975 - accuracy: 0.6771 - val_loss: 0.6095 - val_accuracy: 0.6833 - 257ms/epoch - 6ms/step\n",
            "Epoch 31/100\n",
            "44/44 - 0s - loss: 0.6009 - accuracy: 0.6757 - val_loss: 0.6026 - val_accuracy: 0.6833 - 401ms/epoch - 9ms/step\n",
            "Epoch 32/100\n",
            "44/44 - 1s - loss: 0.5981 - accuracy: 0.6757 - val_loss: 0.6027 - val_accuracy: 0.6833 - 557ms/epoch - 13ms/step\n",
            "Epoch 33/100\n",
            "44/44 - 0s - loss: 0.5955 - accuracy: 0.6757 - val_loss: 0.5968 - val_accuracy: 0.6833 - 485ms/epoch - 11ms/step\n",
            "Epoch 34/100\n",
            "44/44 - 0s - loss: 0.5947 - accuracy: 0.6757 - val_loss: 0.5971 - val_accuracy: 0.6833 - 430ms/epoch - 10ms/step\n",
            "Epoch 35/100\n",
            "44/44 - 1s - loss: 0.5925 - accuracy: 0.6757 - val_loss: 0.5982 - val_accuracy: 0.6833 - 607ms/epoch - 14ms/step\n",
            "Epoch 36/100\n",
            "44/44 - 1s - loss: 0.5918 - accuracy: 0.6757 - val_loss: 0.6010 - val_accuracy: 0.6833 - 766ms/epoch - 17ms/step\n",
            "Epoch 37/100\n",
            "44/44 - 0s - loss: 0.5908 - accuracy: 0.6771 - val_loss: 0.5934 - val_accuracy: 0.6833 - 472ms/epoch - 11ms/step\n",
            "Epoch 38/100\n",
            "44/44 - 1s - loss: 0.5914 - accuracy: 0.6757 - val_loss: 0.5971 - val_accuracy: 0.6833 - 753ms/epoch - 17ms/step\n",
            "Epoch 39/100\n",
            "44/44 - 0s - loss: 0.5943 - accuracy: 0.6757 - val_loss: 0.5952 - val_accuracy: 0.6833 - 243ms/epoch - 6ms/step\n",
            "Epoch 40/100\n",
            "44/44 - 0s - loss: 0.5903 - accuracy: 0.6757 - val_loss: 0.6004 - val_accuracy: 0.6833 - 259ms/epoch - 6ms/step\n",
            "Epoch 41/100\n",
            "44/44 - 0s - loss: 0.5861 - accuracy: 0.6757 - val_loss: 0.5885 - val_accuracy: 0.6833 - 239ms/epoch - 5ms/step\n",
            "Epoch 42/100\n",
            "44/44 - 0s - loss: 0.5829 - accuracy: 0.6757 - val_loss: 0.5931 - val_accuracy: 0.6833 - 169ms/epoch - 4ms/step\n",
            "Epoch 43/100\n",
            "44/44 - 0s - loss: 0.5868 - accuracy: 0.6586 - val_loss: 0.5861 - val_accuracy: 0.6833 - 182ms/epoch - 4ms/step\n",
            "Epoch 44/100\n",
            "44/44 - 0s - loss: 0.5822 - accuracy: 0.6757 - val_loss: 0.5842 - val_accuracy: 0.6833 - 136ms/epoch - 3ms/step\n",
            "Epoch 45/100\n",
            "44/44 - 0s - loss: 0.5766 - accuracy: 0.6757 - val_loss: 0.5799 - val_accuracy: 0.6833 - 150ms/epoch - 3ms/step\n",
            "Epoch 46/100\n",
            "44/44 - 0s - loss: 0.5740 - accuracy: 0.6886 - val_loss: 0.5844 - val_accuracy: 0.6900 - 163ms/epoch - 4ms/step\n",
            "Epoch 47/100\n",
            "44/44 - 0s - loss: 0.5730 - accuracy: 0.6914 - val_loss: 0.5859 - val_accuracy: 0.7033 - 175ms/epoch - 4ms/step\n",
            "Epoch 48/100\n",
            "44/44 - 0s - loss: 0.5720 - accuracy: 0.7057 - val_loss: 0.5856 - val_accuracy: 0.6967 - 178ms/epoch - 4ms/step\n",
            "Epoch 49/100\n",
            "44/44 - 0s - loss: 0.5622 - accuracy: 0.7100 - val_loss: 0.5691 - val_accuracy: 0.7100 - 133ms/epoch - 3ms/step\n",
            "Epoch 50/100\n",
            "44/44 - 0s - loss: 0.5623 - accuracy: 0.7100 - val_loss: 0.5681 - val_accuracy: 0.7100 - 168ms/epoch - 4ms/step\n",
            "Epoch 51/100\n",
            "44/44 - 0s - loss: 0.5553 - accuracy: 0.7129 - val_loss: 0.5679 - val_accuracy: 0.7200 - 142ms/epoch - 3ms/step\n",
            "Epoch 52/100\n",
            "44/44 - 0s - loss: 0.5465 - accuracy: 0.7171 - val_loss: 0.5593 - val_accuracy: 0.7100 - 186ms/epoch - 4ms/step\n",
            "Epoch 53/100\n",
            "44/44 - 0s - loss: 0.5495 - accuracy: 0.7157 - val_loss: 0.5683 - val_accuracy: 0.7267 - 141ms/epoch - 3ms/step\n",
            "Epoch 54/100\n",
            "44/44 - 0s - loss: 0.5435 - accuracy: 0.7100 - val_loss: 0.5666 - val_accuracy: 0.7400 - 163ms/epoch - 4ms/step\n",
            "Epoch 55/100\n",
            "44/44 - 0s - loss: 0.5449 - accuracy: 0.7157 - val_loss: 0.5464 - val_accuracy: 0.7100 - 132ms/epoch - 3ms/step\n",
            "Epoch 56/100\n",
            "44/44 - 0s - loss: 0.5362 - accuracy: 0.7243 - val_loss: 0.5488 - val_accuracy: 0.7267 - 167ms/epoch - 4ms/step\n",
            "Epoch 57/100\n",
            "44/44 - 0s - loss: 0.5248 - accuracy: 0.7243 - val_loss: 0.5420 - val_accuracy: 0.7133 - 141ms/epoch - 3ms/step\n",
            "Epoch 58/100\n",
            "44/44 - 0s - loss: 0.5228 - accuracy: 0.7271 - val_loss: 0.5517 - val_accuracy: 0.7133 - 184ms/epoch - 4ms/step\n",
            "Epoch 59/100\n",
            "44/44 - 0s - loss: 0.5237 - accuracy: 0.7157 - val_loss: 0.5434 - val_accuracy: 0.7300 - 169ms/epoch - 4ms/step\n",
            "Epoch 60/100\n",
            "44/44 - 0s - loss: 0.5208 - accuracy: 0.7157 - val_loss: 0.5389 - val_accuracy: 0.7267 - 152ms/epoch - 3ms/step\n",
            "Epoch 61/100\n",
            "44/44 - 0s - loss: 0.5171 - accuracy: 0.7243 - val_loss: 0.5321 - val_accuracy: 0.7400 - 173ms/epoch - 4ms/step\n",
            "Epoch 62/100\n",
            "44/44 - 0s - loss: 0.5179 - accuracy: 0.7229 - val_loss: 0.5319 - val_accuracy: 0.7267 - 168ms/epoch - 4ms/step\n",
            "Epoch 63/100\n",
            "44/44 - 0s - loss: 0.5135 - accuracy: 0.7271 - val_loss: 0.5295 - val_accuracy: 0.7133 - 167ms/epoch - 4ms/step\n",
            "Epoch 64/100\n",
            "44/44 - 0s - loss: 0.5055 - accuracy: 0.7243 - val_loss: 0.5250 - val_accuracy: 0.7300 - 200ms/epoch - 5ms/step\n",
            "Epoch 65/100\n",
            "44/44 - 0s - loss: 0.5165 - accuracy: 0.7286 - val_loss: 0.5365 - val_accuracy: 0.7467 - 141ms/epoch - 3ms/step\n",
            "Epoch 66/100\n",
            "44/44 - 0s - loss: 0.5117 - accuracy: 0.7286 - val_loss: 0.5397 - val_accuracy: 0.7000 - 141ms/epoch - 3ms/step\n",
            "Epoch 67/100\n",
            "44/44 - 0s - loss: 0.5011 - accuracy: 0.7257 - val_loss: 0.5156 - val_accuracy: 0.7400 - 141ms/epoch - 3ms/step\n",
            "Epoch 68/100\n",
            "44/44 - 0s - loss: 0.5031 - accuracy: 0.7314 - val_loss: 0.5188 - val_accuracy: 0.7133 - 166ms/epoch - 4ms/step\n",
            "Epoch 69/100\n",
            "44/44 - 0s - loss: 0.5009 - accuracy: 0.7371 - val_loss: 0.5246 - val_accuracy: 0.7133 - 170ms/epoch - 4ms/step\n",
            "Epoch 70/100\n",
            "44/44 - 0s - loss: 0.4922 - accuracy: 0.7286 - val_loss: 0.5294 - val_accuracy: 0.6800 - 166ms/epoch - 4ms/step\n",
            "Epoch 71/100\n",
            "44/44 - 0s - loss: 0.4884 - accuracy: 0.7343 - val_loss: 0.5077 - val_accuracy: 0.7433 - 144ms/epoch - 3ms/step\n",
            "Epoch 72/100\n",
            "44/44 - 0s - loss: 0.4867 - accuracy: 0.7357 - val_loss: 0.5246 - val_accuracy: 0.7167 - 139ms/epoch - 3ms/step\n",
            "Epoch 73/100\n",
            "44/44 - 0s - loss: 0.4850 - accuracy: 0.7414 - val_loss: 0.5081 - val_accuracy: 0.7367 - 138ms/epoch - 3ms/step\n",
            "Epoch 74/100\n",
            "44/44 - 0s - loss: 0.4796 - accuracy: 0.7414 - val_loss: 0.4999 - val_accuracy: 0.7300 - 172ms/epoch - 4ms/step\n",
            "Epoch 75/100\n",
            "44/44 - 0s - loss: 0.4782 - accuracy: 0.7486 - val_loss: 0.5118 - val_accuracy: 0.7500 - 170ms/epoch - 4ms/step\n",
            "Epoch 76/100\n",
            "44/44 - 0s - loss: 0.4754 - accuracy: 0.7643 - val_loss: 0.4994 - val_accuracy: 0.7467 - 180ms/epoch - 4ms/step\n",
            "Epoch 77/100\n",
            "44/44 - 0s - loss: 0.4677 - accuracy: 0.7729 - val_loss: 0.4961 - val_accuracy: 0.7533 - 144ms/epoch - 3ms/step\n",
            "Epoch 78/100\n",
            "44/44 - 0s - loss: 0.4667 - accuracy: 0.7657 - val_loss: 0.5075 - val_accuracy: 0.7233 - 169ms/epoch - 4ms/step\n",
            "Epoch 79/100\n",
            "44/44 - 0s - loss: 0.4658 - accuracy: 0.7614 - val_loss: 0.4854 - val_accuracy: 0.7800 - 138ms/epoch - 3ms/step\n",
            "Epoch 80/100\n",
            "44/44 - 0s - loss: 0.4610 - accuracy: 0.7929 - val_loss: 0.4885 - val_accuracy: 0.7800 - 178ms/epoch - 4ms/step\n",
            "Epoch 81/100\n",
            "44/44 - 0s - loss: 0.4587 - accuracy: 0.7743 - val_loss: 0.4853 - val_accuracy: 0.7667 - 133ms/epoch - 3ms/step\n",
            "Epoch 82/100\n",
            "44/44 - 0s - loss: 0.4563 - accuracy: 0.7871 - val_loss: 0.4759 - val_accuracy: 0.7700 - 167ms/epoch - 4ms/step\n",
            "Epoch 83/100\n",
            "44/44 - 0s - loss: 0.4525 - accuracy: 0.7857 - val_loss: 0.4821 - val_accuracy: 0.7667 - 176ms/epoch - 4ms/step\n",
            "Epoch 84/100\n",
            "44/44 - 0s - loss: 0.4553 - accuracy: 0.7914 - val_loss: 0.4817 - val_accuracy: 0.7433 - 168ms/epoch - 4ms/step\n",
            "Epoch 85/100\n",
            "44/44 - 0s - loss: 0.4416 - accuracy: 0.7957 - val_loss: 0.4622 - val_accuracy: 0.7900 - 166ms/epoch - 4ms/step\n",
            "Epoch 86/100\n",
            "44/44 - 0s - loss: 0.4434 - accuracy: 0.8043 - val_loss: 0.4754 - val_accuracy: 0.8167 - 160ms/epoch - 4ms/step\n",
            "Epoch 87/100\n",
            "44/44 - 0s - loss: 0.4317 - accuracy: 0.8100 - val_loss: 0.4640 - val_accuracy: 0.7767 - 175ms/epoch - 4ms/step\n",
            "Epoch 88/100\n",
            "44/44 - 0s - loss: 0.4251 - accuracy: 0.8243 - val_loss: 0.4736 - val_accuracy: 0.7467 - 161ms/epoch - 4ms/step\n",
            "Epoch 89/100\n",
            "44/44 - 0s - loss: 0.4294 - accuracy: 0.8071 - val_loss: 0.4629 - val_accuracy: 0.7667 - 141ms/epoch - 3ms/step\n",
            "Epoch 90/100\n",
            "44/44 - 0s - loss: 0.4203 - accuracy: 0.8286 - val_loss: 0.4416 - val_accuracy: 0.8133 - 136ms/epoch - 3ms/step\n",
            "Epoch 91/100\n",
            "44/44 - 0s - loss: 0.4203 - accuracy: 0.8257 - val_loss: 0.4465 - val_accuracy: 0.7933 - 164ms/epoch - 4ms/step\n",
            "Epoch 92/100\n",
            "44/44 - 0s - loss: 0.4138 - accuracy: 0.8229 - val_loss: 0.4468 - val_accuracy: 0.8033 - 136ms/epoch - 3ms/step\n",
            "Epoch 93/100\n",
            "44/44 - 0s - loss: 0.4077 - accuracy: 0.8314 - val_loss: 0.4331 - val_accuracy: 0.7967 - 184ms/epoch - 4ms/step\n",
            "Epoch 94/100\n",
            "44/44 - 0s - loss: 0.4017 - accuracy: 0.8229 - val_loss: 0.4202 - val_accuracy: 0.8200 - 164ms/epoch - 4ms/step\n",
            "Epoch 95/100\n",
            "44/44 - 0s - loss: 0.3983 - accuracy: 0.8457 - val_loss: 0.4219 - val_accuracy: 0.8167 - 135ms/epoch - 3ms/step\n",
            "Epoch 96/100\n",
            "44/44 - 0s - loss: 0.4012 - accuracy: 0.8386 - val_loss: 0.4270 - val_accuracy: 0.8333 - 198ms/epoch - 4ms/step\n",
            "Epoch 97/100\n",
            "44/44 - 0s - loss: 0.3974 - accuracy: 0.8414 - val_loss: 0.4176 - val_accuracy: 0.8300 - 164ms/epoch - 4ms/step\n",
            "Epoch 98/100\n",
            "44/44 - 0s - loss: 0.3883 - accuracy: 0.8343 - val_loss: 0.4139 - val_accuracy: 0.8433 - 141ms/epoch - 3ms/step\n",
            "Epoch 99/100\n",
            "44/44 - 0s - loss: 0.3866 - accuracy: 0.8514 - val_loss: 0.4087 - val_accuracy: 0.8100 - 177ms/epoch - 4ms/step\n",
            "Epoch 100/100\n",
            "44/44 - 0s - loss: 0.3778 - accuracy: 0.8357 - val_loss: 0.4058 - val_accuracy: 0.8333 - 135ms/epoch - 3ms/step\n"
          ]
        }
      ]
    },
    {
      "cell_type": "code",
      "metadata": {
        "id": "EoZKsYcKg_2C",
        "colab": {
          "base_uri": "https://localhost:8080/"
        },
        "outputId": "116d4b1e-7d7e-49ce-d6c7-8c9767e6ee0d"
      },
      "source": [
        "pred = model.predict(testX)"
      ],
      "execution_count": 30,
      "outputs": [
        {
          "output_type": "stream",
          "name": "stdout",
          "text": [
            "10/10 [==============================] - 0s 2ms/step\n"
          ]
        }
      ]
    },
    {
      "cell_type": "code",
      "metadata": {
        "id": "T50T59BBhBin",
        "colab": {
          "base_uri": "https://localhost:8080/"
        },
        "outputId": "d2601510-1978-43b0-97c3-1f3e4f7246ce"
      },
      "source": [
        "# Errors calculation ECM y EAM\n",
        "testScoreECM = mean_squared_error(testY, pred)\n",
        "print('ECM: %.4f' % (testScoreECM))"
      ],
      "execution_count": 31,
      "outputs": [
        {
          "output_type": "stream",
          "name": "stdout",
          "text": [
            "ECM: 0.1320\n"
          ]
        }
      ]
    },
    {
      "cell_type": "markdown",
      "metadata": {
        "id": "eXaUNSfCkvxm"
      },
      "source": [
        "## Visualización de resultados"
      ]
    },
    {
      "cell_type": "markdown",
      "metadata": {
        "id": "ugDhsd5PSsXR"
      },
      "source": [
        "En la siguiente gráfica se visualiza la evolución del error para el conjunto de entrenamiento y test en función de las épocas."
      ]
    },
    {
      "cell_type": "code",
      "metadata": {
        "id": "3lX4jW4Rgllt",
        "colab": {
          "base_uri": "https://localhost:8080/",
          "height": 714
        },
        "outputId": "d2a22c50-0988-4f97-dc35-0575ebb600cc"
      },
      "source": [
        "plt.figure(1, figsize=(8,8))\n",
        "plt.plot(history.history['loss'])\n",
        "\n",
        "plt.plot(history.history['val_loss'])\n",
        "\n",
        "#plt.yscale(\"log\")\n",
        "#plt.title('model loss')\n",
        "plt.ylabel('loss')\n",
        "plt.xlabel('epoch')\n",
        "#plt.xlim(-0.5,20.1)\n",
        "plt.legend(['train', 'test'], loc='upper center')\n",
        "\n",
        "from google.colab import files\n",
        "plt.savefig('loss_MLP.eps')\n",
        "#files.download('loss_MLP.eps') # Descomentar para descargar localmente"
      ],
      "execution_count": 32,
      "outputs": [
        {
          "output_type": "stream",
          "name": "stderr",
          "text": [
            "WARNING:matplotlib.backends.backend_ps:The PostScript backend does not support transparency; partially transparent artists will be rendered opaque.\n"
          ]
        },
        {
          "output_type": "display_data",
          "data": {
            "text/plain": [
              "<Figure size 800x800 with 1 Axes>"
            ],
            "image/png": "[encoded data removed]"
          },
          "metadata": {}
        }
      ]
    },
    {
      "cell_type": "markdown",
      "metadata": {
        "id": "uZQZmAlUSQTq"
      },
      "source": [
        "En la siguiente gráfica se visualiza la evolución de la calidad de la clasificación para el conjunto de entrenamiento y test en función de las épocas."
      ]
    },
    {
      "cell_type": "code",
      "metadata": {
        "id": "QRJLuHl3F3qg",
        "colab": {
          "base_uri": "https://localhost:8080/",
          "height": 714
        },
        "outputId": "1a187563-da2e-462d-a37f-f3ddf7150e48"
      },
      "source": [
        "plt.figure(1, figsize=(8,8))\n",
        "plt.plot(history.history['accuracy'])\n",
        "\n",
        "plt.plot(history.history['val_accuracy'])\n",
        "plt.ylabel('accuray')\n",
        "plt.xlabel('epoch')\n",
        "plt.legend(['train', 'test'], loc='upper center')\n"
      ],
      "execution_count": 33,
      "outputs": [
        {
          "output_type": "execute_result",
          "data": {
            "text/plain": [
              "<matplotlib.legend.Legend at 0x7b51a34b9d50>"
            ]
          },
          "metadata": {},
          "execution_count": 33
        },
        {
          "output_type": "display_data",
          "data": {
            "text/plain": [
              "<Figure size 800x800 with 1 Axes>"
            ],
            "image/png": "[encoded data removed]"
          },
          "metadata": {}
        }
      ]
    },
    {
      "cell_type": "code",
      "metadata": {
        "id": "A3AO4VG5i144",
        "colab": {
          "base_uri": "https://localhost:8080/"
        },
        "outputId": "35ce8dcd-cc80-4bd3-c9ca-b4a1faf4aba8"
      },
      "source": [
        "print('V1','V2','\\t\\t','Real','\\t','Pronóstico')\n",
        "for i in range(len(testY)):\n",
        "  print(i, testX[i],'\\t',testY[i],'\\t',pred[i])"
      ],
      "execution_count": 34,
      "outputs": [
        {
          "output_type": "stream",
          "name": "stdout",
          "text": [
            "V1 V2 \t\t Real \t Pronóstico\n",
            "0 [2 5] \t 1 \t [0.96963733]\n",
            "1 [5 4] \t 0 \t [0.50145525]\n",
            "2 [5 0] \t 1 \t [0.7533616]\n",
            "3 [6 9] \t 0 \t [0.289866]\n",
            "4 [5 5] \t 1 \t [0.63318914]\n",
            "5 [7 3] \t 1 \t [0.7764303]\n",
            "6 [3 5] \t 1 \t [0.91647416]\n",
            "7 [0 1] \t 1 \t [0.9999842]\n",
            "8 [2 6] \t 1 \t [0.9884621]\n",
            "9 [3 3] \t 0 \t [0.169053]\n",
            "10 [1 8] \t 0 \t [0.6768052]\n",
            "11 [9 1] \t 1 \t [0.5330701]\n",
            "12 [9 0] \t 0 \t [0.429889]\n",
            "13 [8 3] \t 1 \t [0.7323611]\n",
            "14 [8 7] \t 0 \t [0.5949308]\n",
            "15 [0 6] \t 0 \t [0.6355284]\n",
            "16 [8 5] \t 1 \t [0.5165435]\n",
            "17 [6 6] \t 0 \t [0.6282086]\n",
            "18 [6 2] \t 1 \t [0.7705296]\n",
            "19 [1 4] \t 1 \t [0.99527174]\n",
            "20 [4 5] \t 0 \t [0.3481487]\n",
            "21 [3 5] \t 1 \t [0.91647416]\n",
            "22 [5 3] \t 1 \t [0.75184244]\n",
            "23 [5 8] \t 1 \t [0.92414653]\n",
            "24 [4 1] \t 1 \t [0.80990016]\n",
            "25 [9 7] \t 1 \t [0.55651003]\n",
            "26 [3 4] \t 1 \t [0.9206734]\n",
            "27 [8 9] \t 1 \t [0.7270284]\n",
            "28 [2 8] \t 1 \t [0.4935215]\n",
            "29 [3 4] \t 1 \t [0.9206734]\n",
            "30 [0 9] \t 0 \t [0.5108834]\n",
            "31 [6 7] \t 1 \t [0.740149]\n",
            "32 [2 0] \t 1 \t [0.9996545]\n",
            "33 [8 2] \t 1 \t [0.6805245]\n",
            "34 [3 5] \t 1 \t [0.91647416]\n",
            "35 [3 9] \t 0 \t [0.03766633]\n",
            "36 [8 5] \t 1 \t [0.5165435]\n",
            "37 [2 6] \t 1 \t [0.9884621]\n",
            "38 [6 4] \t 1 \t [0.6249171]\n",
            "39 [2 7] \t 0 \t [0.10543963]\n",
            "40 [0 0] \t 0 \t [2.5377334e-05]\n",
            "41 [3 8] \t 1 \t [0.97378737]\n",
            "42 [0 7] \t 1 \t [0.59859604]\n",
            "43 [3 4] \t 1 \t [0.9206734]\n",
            "44 [9 2] \t 1 \t [0.63215685]\n",
            "45 [0 8] \t 1 \t [0.55679244]\n",
            "46 [4 3] \t 1 \t [0.7164718]\n",
            "47 [2 2] \t 1 \t [0.96710527]\n",
            "48 [7 5] \t 0 \t [0.43103015]\n",
            "49 [1 1] \t 1 \t [0.9995647]\n",
            "50 [2 9] \t 1 \t [0.76146585]\n",
            "51 [2 6] \t 1 \t [0.9884621]\n",
            "52 [2 5] \t 1 \t [0.96963733]\n",
            "53 [1 4] \t 1 \t [0.99527174]\n",
            "54 [5 7] \t 0 \t [0.35169813]\n",
            "55 [9 4] \t 1 \t [0.73159987]\n",
            "56 [5 3] \t 1 \t [0.75184244]\n",
            "57 [3 4] \t 1 \t [0.9206734]\n",
            "58 [7 5] \t 0 \t [0.43103015]\n",
            "59 [1 6] \t 1 \t [0.72624314]\n",
            "60 [0 5] \t 1 \t [0.6759336]\n",
            "61 [1 6] \t 1 \t [0.72624314]\n",
            "62 [1 9] \t 1 \t [0.63318735]\n",
            "63 [8 3] \t 1 \t [0.7323611]\n",
            "64 [3 5] \t 1 \t [0.91647416]\n",
            "65 [5 4] \t 0 \t [0.50145525]\n",
            "66 [4 6] \t 1 \t [0.9144059]\n",
            "67 [4 6] \t 1 \t [0.9144059]\n",
            "68 [2 5] \t 1 \t [0.96963733]\n",
            "69 [4 3] \t 1 \t [0.7164718]\n",
            "70 [5 2] \t 1 \t [0.80751336]\n",
            "71 [6 0] \t 0 \t [0.62896615]\n",
            "72 [4 5] \t 0 \t [0.3481487]\n",
            "73 [2 7] \t 0 \t [0.10543963]\n",
            "74 [6 4] \t 1 \t [0.6249171]\n",
            "75 [1 7] \t 1 \t [0.71844584]\n",
            "76 [7 8] \t 0 \t [0.72828513]\n",
            "77 [6 7] \t 1 \t [0.740149]\n",
            "78 [2 8] \t 1 \t [0.4935215]\n",
            "79 [3 9] \t 0 \t [0.03766633]\n",
            "80 [9 9] \t 0 \t [0.64355946]\n",
            "81 [4 9] \t 1 \t [0.9198923]\n",
            "82 [1 2] \t 0 \t [0.00040239]\n",
            "83 [4 3] \t 1 \t [0.7164718]\n",
            "84 [1 1] \t 1 \t [0.9995647]\n",
            "85 [0 8] \t 1 \t [0.55679244]\n",
            "86 [7 5] \t 0 \t [0.43103015]\n",
            "87 [3 3] \t 0 \t [0.169053]\n",
            "88 [4 4] \t 1 \t [0.61214304]\n",
            "89 [5 4] \t 0 \t [0.50145525]\n",
            "90 [0 0] \t 0 \t [2.5377334e-05]\n",
            "91 [8 8] \t 1 \t [0.6367609]\n",
            "92 [2 4] \t 0 \t [0.36271825]\n",
            "93 [2 7] \t 0 \t [0.10543963]\n",
            "94 [5 8] \t 1 \t [0.92414653]\n",
            "95 [4 8] \t 0 \t [0.07828883]\n",
            "96 [9 0] \t 0 \t [0.429889]\n",
            "97 [5 3] \t 1 \t [0.75184244]\n",
            "98 [3 7] \t 1 \t [0.94584]\n",
            "99 [3 3] \t 0 \t [0.169053]\n",
            "100 [4 3] \t 1 \t [0.7164718]\n",
            "101 [6 5] \t 1 \t [0.5599099]\n",
            "102 [8 8] \t 1 \t [0.6367609]\n",
            "103 [4 0] \t 1 \t [0.9131804]\n",
            "104 [2 9] \t 1 \t [0.76146585]\n",
            "105 [2 9] \t 1 \t [0.76146585]\n",
            "106 [0 6] \t 0 \t [0.6355284]\n",
            "107 [6 2] \t 1 \t [0.7705296]\n",
            "108 [2 5] \t 1 \t [0.96963733]\n",
            "109 [8 0] \t 1 \t [0.4977499]\n",
            "110 [9 8] \t 1 \t [0.60202307]\n",
            "111 [2 8] \t 1 \t [0.4935215]\n",
            "112 [4 5] \t 0 \t [0.3481487]\n",
            "113 [3 7] \t 1 \t [0.94584]\n",
            "114 [4 6] \t 1 \t [0.9144059]\n",
            "115 [4 1] \t 1 \t [0.80990016]\n",
            "116 [0 4] \t 1 \t [0.71453696]\n",
            "117 [8 1] \t 0 \t [0.59173465]\n",
            "118 [3 4] \t 1 \t [0.9206734]\n",
            "119 [4 4] \t 1 \t [0.61214304]\n",
            "120 [2 9] \t 1 \t [0.76146585]\n",
            "121 [9 6] \t 0 \t [0.37417805]\n",
            "122 [2 5] \t 1 \t [0.96963733]\n",
            "123 [8 1] \t 0 \t [0.59173465]\n",
            "124 [4 3] \t 1 \t [0.7164718]\n",
            "125 [0 0] \t 0 \t [2.5377334e-05]\n",
            "126 [0 1] \t 1 \t [0.9999842]\n",
            "127 [6 1] \t 1 \t [0.69369864]\n",
            "128 [6 8] \t 1 \t [0.62740153]\n",
            "129 [7 5] \t 0 \t [0.43103015]\n",
            "130 [6 6] \t 0 \t [0.6282086]\n",
            "131 [7 6] \t 1 \t [0.5877989]\n",
            "132 [9 1] \t 1 \t [0.5330701]\n",
            "133 [3 9] \t 0 \t [0.03766633]\n",
            "134 [9 3] \t 0 \t [0.67382354]\n",
            "135 [7 0] \t 1 \t [0.5657865]\n",
            "136 [8 6] \t 1 \t [0.5063172]\n",
            "137 [2 4] \t 0 \t [0.36271825]\n",
            "138 [9 1] \t 1 \t [0.5330701]\n",
            "139 [1 4] \t 1 \t [0.99527174]\n",
            "140 [0 5] \t 1 \t [0.6759336]\n",
            "141 [6 4] \t 1 \t [0.6249171]\n",
            "142 [3 7] \t 1 \t [0.94584]\n",
            "143 [8 8] \t 1 \t [0.6367609]\n",
            "144 [4 3] \t 1 \t [0.7164718]\n",
            "145 [9 6] \t 0 \t [0.37417805]\n",
            "146 [9 8] \t 1 \t [0.60202307]\n",
            "147 [6 4] \t 1 \t [0.6249171]\n",
            "148 [7 8] \t 0 \t [0.72828513]\n",
            "149 [9 9] \t 0 \t [0.64355946]\n",
            "150 [2 3] \t 1 \t [0.96530575]\n",
            "151 [3 7] \t 1 \t [0.94584]\n",
            "152 [6 8] \t 1 \t [0.62740153]\n",
            "153 [4 9] \t 1 \t [0.9198923]\n",
            "154 [5 7] \t 0 \t [0.35169813]\n",
            "155 [8 9] \t 1 \t [0.7270284]\n",
            "156 [5 1] \t 0 \t [0.7343955]\n",
            "157 [9 5] \t 1 \t [0.6480076]\n",
            "158 [9 1] \t 1 \t [0.53307015]\n",
            "159 [7 6] \t 1 \t [0.5877989]\n",
            "160 [1 6] \t 1 \t [0.72624314]\n",
            "161 [0 3] \t 0 \t [0.00225802]\n",
            "162 [6 7] \t 1 \t [0.740149]\n",
            "163 [3 6] \t 0 \t [0.09394339]\n",
            "164 [3 9] \t 0 \t [0.03766633]\n",
            "165 [4 5] \t 0 \t [0.3481487]\n",
            "166 [1 1] \t 1 \t [0.9995647]\n",
            "167 [8 4] \t 0 \t [0.7175167]\n",
            "168 [2 5] \t 1 \t [0.96963733]\n",
            "169 [8 8] \t 1 \t [0.6367609]\n",
            "170 [0 5] \t 1 \t [0.6759336]\n",
            "171 [3 4] \t 1 \t [0.9206734]\n",
            "172 [9 4] \t 1 \t [0.73159987]\n",
            "173 [0 7] \t 1 \t [0.59859604]\n",
            "174 [6 3] \t 0 \t [0.7650105]\n",
            "175 [6 8] \t 1 \t [0.62740153]\n",
            "176 [7 4] \t 1 \t [0.70256823]\n",
            "177 [7 7] \t 1 \t [0.62990725]\n",
            "178 [9 5] \t 1 \t [0.6480076]\n",
            "179 [2 1] \t 0 \t [0.000785]\n",
            "180 [2 5] \t 1 \t [0.96963733]\n",
            "181 [1 6] \t 1 \t [0.72624314]\n",
            "182 [0 0] \t 0 \t [2.5377334e-05]\n",
            "183 [9 9] \t 0 \t [0.64355946]\n",
            "184 [5 2] \t 1 \t [0.80751336]\n",
            "185 [0 9] \t 0 \t [0.51088333]\n",
            "186 [9 9] \t 0 \t [0.64355946]\n",
            "187 [7 5] \t 0 \t [0.43103015]\n",
            "188 [5 4] \t 0 \t [0.50145525]\n",
            "189 [3 1] \t 1 \t [0.91520464]\n",
            "190 [8 1] \t 0 \t [0.5917346]\n",
            "191 [2 4] \t 0 \t [0.3627182]\n",
            "192 [6 7] \t 1 \t [0.740149]\n",
            "193 [4 8] \t 0 \t [0.07828883]\n",
            "194 [5 4] \t 0 \t [0.50145525]\n",
            "195 [6 2] \t 1 \t [0.7705296]\n",
            "196 [1 8] \t 0 \t [0.6768052]\n",
            "197 [9 8] \t 1 \t [0.60202307]\n",
            "198 [6 1] \t 1 \t [0.6936987]\n",
            "199 [3 4] \t 1 \t [0.9206734]\n",
            "200 [7 0] \t 1 \t [0.5657865]\n",
            "201 [0 4] \t 1 \t [0.71453696]\n",
            "202 [4 5] \t 0 \t [0.3481487]\n",
            "203 [9 3] \t 0 \t [0.67382354]\n",
            "204 [4 2] \t 0 \t [0.80298966]\n",
            "205 [4 9] \t 1 \t [0.9198923]\n",
            "206 [5 5] \t 1 \t [0.63318914]\n",
            "207 [1 0] \t 1 \t [0.9999996]\n",
            "208 [0 4] \t 1 \t [0.71453696]\n",
            "209 [9 6] \t 0 \t [0.37417805]\n",
            "210 [7 9] \t 1 \t [0.82045925]\n",
            "211 [0 6] \t 0 \t [0.6355284]\n",
            "212 [5 9] \t 1 \t [0.85908186]\n",
            "213 [3 0] \t 0 \t [0.00430008]\n",
            "214 [8 2] \t 1 \t [0.6805245]\n",
            "215 [9 0] \t 0 \t [0.429889]\n",
            "216 [1 0] \t 1 \t [0.9999996]\n",
            "217 [7 3] \t 1 \t [0.7764303]\n",
            "218 [0 1] \t 1 \t [0.9999842]\n",
            "219 [9 1] \t 1 \t [0.5330701]\n",
            "220 [6 4] \t 1 \t [0.6249171]\n",
            "221 [8 5] \t 1 \t [0.5165435]\n",
            "222 [2 9] \t 1 \t [0.7614659]\n",
            "223 [1 2] \t 0 \t [0.00040239]\n",
            "224 [7 1] \t 1 \t [0.6478969]\n",
            "225 [5 4] \t 0 \t [0.50145525]\n",
            "226 [4 4] \t 1 \t [0.61214304]\n",
            "227 [0 7] \t 1 \t [0.59859604]\n",
            "228 [1 2] \t 0 \t [0.00040239]\n",
            "229 [1 7] \t 1 \t [0.71844584]\n",
            "230 [7 1] \t 1 \t [0.6478969]\n",
            "231 [8 5] \t 1 \t [0.5165435]\n",
            "232 [2 6] \t 1 \t [0.9884621]\n",
            "233 [7 3] \t 1 \t [0.7764303]\n",
            "234 [6 3] \t 0 \t [0.7650105]\n",
            "235 [9 3] \t 0 \t [0.67382354]\n",
            "236 [9 4] \t 1 \t [0.73159987]\n",
            "237 [2 6] \t 1 \t [0.9884621]\n",
            "238 [1 6] \t 1 \t [0.72624314]\n",
            "239 [1 1] \t 1 \t [0.9995647]\n",
            "240 [8 9] \t 1 \t [0.7270284]\n",
            "241 [9 8] \t 1 \t [0.60202307]\n",
            "242 [0 4] \t 1 \t [0.71453696]\n",
            "243 [7 1] \t 1 \t [0.6478969]\n",
            "244 [2 7] \t 0 \t [0.10543963]\n",
            "245 [4 9] \t 1 \t [0.9198923]\n",
            "246 [2 2] \t 1 \t [0.96710527]\n",
            "247 [9 1] \t 1 \t [0.5330701]\n",
            "248 [8 8] \t 1 \t [0.6367609]\n",
            "249 [1 9] \t 1 \t [0.63318735]\n",
            "250 [0 7] \t 1 \t [0.59859604]\n",
            "251 [1 7] \t 1 \t [0.71844584]\n",
            "252 [4 4] \t 1 \t [0.61214304]\n",
            "253 [4 5] \t 0 \t [0.3481487]\n",
            "254 [9 0] \t 0 \t [0.42988893]\n",
            "255 [9 3] \t 0 \t [0.6738235]\n",
            "256 [0 2] \t 1 \t [0.99961245]\n",
            "257 [1 5] \t 0 \t [0.23573071]\n",
            "258 [9 4] \t 1 \t [0.73159987]\n",
            "259 [9 9] \t 0 \t [0.64355946]\n",
            "260 [3 0] \t 0 \t [0.00430008]\n",
            "261 [1 9] \t 1 \t [0.63318735]\n",
            "262 [7 2] \t 0 \t [0.7227015]\n",
            "263 [2 6] \t 1 \t [0.9884621]\n",
            "264 [8 0] \t 1 \t [0.4977499]\n",
            "265 [4 4] \t 1 \t [0.61214304]\n",
            "266 [7 8] \t 0 \t [0.72828513]\n",
            "267 [4 1] \t 1 \t [0.80990016]\n",
            "268 [3 9] \t 0 \t [0.03766633]\n",
            "269 [2 0] \t 1 \t [0.9996545]\n",
            "270 [8 6] \t 1 \t [0.5063172]\n",
            "271 [4 1] \t 1 \t [0.80990016]\n",
            "272 [7 8] \t 0 \t [0.72828513]\n",
            "273 [7 7] \t 1 \t [0.62990725]\n",
            "274 [0 3] \t 0 \t [0.00225802]\n",
            "275 [1 4] \t 1 \t [0.99527174]\n",
            "276 [4 2] \t 0 \t [0.80298966]\n",
            "277 [6 5] \t 1 \t [0.5599099]\n",
            "278 [5 8] \t 1 \t [0.92414653]\n",
            "279 [5 9] \t 1 \t [0.85908186]\n",
            "280 [0 0] \t 0 \t [2.5377334e-05]\n",
            "281 [5 0] \t 1 \t [0.7533616]\n",
            "282 [2 6] \t 1 \t [0.9884621]\n",
            "283 [0 1] \t 1 \t [0.9999842]\n",
            "284 [8 6] \t 1 \t [0.5063172]\n",
            "285 [3 3] \t 0 \t [0.169053]\n",
            "286 [5 4] \t 0 \t [0.5014553]\n",
            "287 [7 4] \t 1 \t [0.7025683]\n",
            "288 [8 7] \t 0 \t [0.5949308]\n",
            "289 [4 1] \t 1 \t [0.80990016]\n",
            "290 [7 2] \t 0 \t [0.7227015]\n",
            "291 [6 1] \t 1 \t [0.6936987]\n",
            "292 [7 1] \t 1 \t [0.6478969]\n",
            "293 [7 8] \t 0 \t [0.72828513]\n",
            "294 [2 0] \t 1 \t [0.9996545]\n",
            "295 [7 1] \t 1 \t [0.6478969]\n",
            "296 [6 3] \t 0 \t [0.7650105]\n",
            "297 [0 7] \t 1 \t [0.59859604]\n",
            "298 [2 4] \t 0 \t [0.36271825]\n",
            "299 [6 7] \t 1 \t [0.740149]\n"
          ]
        }
      ]
    },
    {
      "cell_type": "code",
      "metadata": {
        "id": "PJ201jFzGP5p",
        "colab": {
          "base_uri": "https://localhost:8080/",
          "height": 806
        },
        "outputId": "bc13c4da-dee8-4441-eea8-537450817fb0"
      },
      "source": [
        "plt.figure(1,figsize=(8,8)) # figura numero 4\n",
        "plt.style.use('seaborn-deep')\n",
        "#plt.hist(pred,100,histtype='step')\n",
        "# seleccionamos los datos que cumplen que testY==0 es argo\n",
        "c=np.where(testY==0)\n",
        "print(\"test 0s number:  \",len(c[0]))\n",
        "plt.hist(pred[c[0]],50,histtype='step',color='darkorange', label= \"Múltiplo de 3 ( %d ) \" % (len(c[0]) ))\n",
        "# selecionamos los de cuello testY==1\n",
        "c=np.where(testY==1)\n",
        "print(\"test 1s number:  \", len(c[0]))\n",
        "plt.hist(pred[c[0]],50,histtype='step',color='blue', label= \"No múltiplo de 3 ( %d ) \" % (len(c[0]) ))\n",
        "plt.ylabel('Cuentas')\n",
        "plt.xlabel('Predicción')\n",
        "plt.yscale(\"log\")\n",
        "plt.xlim(-0.1,1.1)\n",
        "plt.legend( loc='upper center')"
      ],
      "execution_count": 35,
      "outputs": [
        {
          "output_type": "stream",
          "name": "stdout",
          "text": [
            "test 0s number:   100\n",
            "test 1s number:   200\n"
          ]
        },
        {
          "output_type": "stream",
          "name": "stderr",
          "text": [
            "<ipython-input-35-acd886841795>:2: MatplotlibDeprecationWarning: The seaborn styles shipped by Matplotlib are deprecated since 3.6, as they no longer correspond to the styles shipped by seaborn. However, they will remain available as 'seaborn-v0_8-<style>'. Alternatively, directly use the seaborn API instead.\n",
            "  plt.style.use('seaborn-deep')\n"
          ]
        },
        {
          "output_type": "execute_result",
          "data": {
            "text/plain": [
              "<matplotlib.legend.Legend at 0x7b51a334fa60>"
            ]
          },
          "metadata": {},
          "execution_count": 35
        },
        {
          "output_type": "display_data",
          "data": {
            "text/plain": [
              "<Figure size 800x800 with 1 Axes>"
            ],
            "image/png": "[encoded data removed]"
          },
          "metadata": {}
        }
      ]
    },
    {
      "cell_type": "markdown",
      "metadata": {
        "id": "NmK_NAEW1B0q"
      },
      "source": [
        "## Propuestas adicionales.\n",
        "\n",
        "*   Modificar el número de neuronas y capas para mejorar el rendimiento de la red.\n",
        "*   Hacer un clasificador multivariante en la salida que pronostique independiente si la suma será múltiplo de 3 y de 5.\n",
        "*   Modificar la red añadiendo dropout."
      ]
    },
    {
      "cell_type": "markdown",
      "metadata": {
        "id": "WOYETe0an752"
      },
      "source": [
        "## Propuestas adicionales: no te quedes con hambre.\n",
        "\n",
        "*   Construir un clasificador de múltiplos de 11. ¿Es el rendimiento del clasificador mejor que el múltiplos de 3?\n",
        "*   En el conjunto de entrenamiento ¿cuál es la proporción entre instancias/ejemplos de ambas clases? ¿Está más o menos desbalanceadas las clases que en clasificador de múltiplos de 3?   \n",
        "*   Si el batch_size es 8 ó 16 ¿cuántos instancias/ejemplos de la clase minoritaria entran de media en cada batch? ¿Si los pesos de la red se actualizan con cada batch, entonces el aprendizaje de las características de la clase minoritaria está siendo adecuado?\n",
        "*   ¿Qué técnicas existen para corregir los problemas de clasificación con clases fuertemente desbalanceadas?\n"
      ]
    }
  ]
}